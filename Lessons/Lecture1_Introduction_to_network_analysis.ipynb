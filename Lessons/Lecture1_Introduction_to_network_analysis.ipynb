{
 "cells": [
  {
   "cell_type": "markdown",
   "metadata": {
    "slideshow": {
     "slide_type": "slide"
    }
   },
   "source": [
    "## Introduction to the course ##\n",
    "\n",
    "Behind many systems there is an intricate wiring diagram, a **network**, that defines the interactions between the components of the system.\n",
    "\n",
    "In this course, we will learn how to model, understand, explain and, possibly, predict characteristics of these systems by modelling, understanding, explaining and, possibly, predicting the networks **behind** them.\n",
    "\n",
    "We will cover several aspects of network theory:\n",
    "- Network representation\n",
    "- Measures and metrics\n",
    "- Algorithms\n",
    "- Properties of real-world networks\n",
    "- Graph models\n",
    "- Community structure\n",
    "\n",
    "We will make use of Python and, in particular, of the Python interface to the **igraph** library.\n",
    "\n",
    "The reference book is Mark Newman's \"**Networks** (2nd Edition)\", Oxford University Press.\n",
    "\n"
   ]
  },
  {
   "cell_type": "markdown",
   "metadata": {
    "slideshow": {
     "slide_type": "slide"
    }
   },
   "source": [
    "## Introduction to the course ##\n",
    "\n",
    "We will take a **practical** perspective:\n",
    "- you will be given access to a few **datasets**\n",
    "- through examples and exercises, you will learn how to:\n",
    "    - extract a network **representation** for a dataset\n",
    "    - **analyze** the obtained graph to gain valuable knowledge about the system that the data describe\n",
    "    \n",
    "At the end of the course you will be asked to choose a dataset and to present an essay where you present a network-based analysis of the dataset.\n"
   ]
  },
  {
   "cell_type": "markdown",
   "metadata": {
    "slideshow": {
     "slide_type": "slide"
    }
   },
   "source": [
    "## What are networks ##\n",
    "\n",
    "A **network** or a **graph** is a collection of discrete entities and the set of interactions among them.\n",
    "\n",
    "- we call the entities **vertices** or **nodes**\n",
    "- we call the interactions **edges** or **links**\n",
    "\n",
    "Any system that we can describe as being composed of identifiable nodes and definable links can be modeled and analyzed as a network.\n",
    "\n",
    "Modeling a system as a network means answering two questions:\n",
    "\n",
    "> What is a vertex?\n",
    "\n",
    "The answer defines the set V of discrete entities or objects, among which edges exist.\n",
    "\n",
    "> What is an edge?\n",
    "\n",
    "The answer defines the set E of pairwise interactions2 among the vertices, i.e., E ⊆ V × V ."
   ]
  },
  {
   "cell_type": "markdown",
   "metadata": {
    "slideshow": {
     "slide_type": "slide"
    }
   },
   "source": [
    "## What are networks ##\n",
    "\n",
    "For any particular system, there may be **multiple ways** of answering these questions.\n",
    "- in a social network in which vertices are people, edges may represent different kinds of social interaction: friendship, meeting in person, appearing together in a photograph, answering one-another on a social media platform, etc.\n",
    "- in a biological network in which nodes are genes, an edge might represent a regulatory interaction, a binding affinity between the corresponding proteins, a similarity in terms of evolutionary history, etc.\n",
    "\n",
    "How we answer the two fundamental questions can greatly shape the kind of questions we will be able to answer later about the underlying system."
   ]
  },
  {
   "cell_type": "markdown",
   "metadata": {
    "slideshow": {
     "slide_type": "slide"
    }
   },
   "source": [
    "<img src=\"images/table_of_networks.png\" alt=\"A tabel of networks examples\" title=\"A table of possible networks\" style=\"width: 600px;\"/>"
   ]
  },
  {
   "cell_type": "markdown",
   "metadata": {
    "slideshow": {
     "slide_type": "slide"
    }
   },
   "source": [
    "### Networks are models ###\n",
    "\n",
    "Remember: a network is a *representation* or a *description* of an underlying system. \n",
    "\n",
    "A network can be a fairly good description of a system of roads, but it is probably a poor representation of the stars in a galaxy, and it captures only some aspects of friendships among people.\n",
    "\n",
    "Keep this fundamental point in mind: **networks are models**"
   ]
  },
  {
   "cell_type": "markdown",
   "metadata": {
    "slideshow": {
     "slide_type": "slide"
    }
   },
   "source": [
    "### Network domains ###\n",
    "In the table above, each network is tagged by one of six scientific domains.\n",
    "This is a rough taxonomy of the kind of underlying system the network models:\n",
    "\n",
    " - **Biological networks** include networks of molecules, genes, cells, tissues, and entire \n",
    "species, and are studied across nearly all life-science fields, e.g., molecular biology, microbiology, developmental biology, physiology, neuroscience, ecology, and evolutionary biology.\n",
    "\n",
    " - **Social networks** include all different kinds of social interactions among people or organizations, except for those that are explicitly economic in nature. Networks of economic interactions, e.g., economic transactions, preferences, and relationships, get their own economic networks category."
   ]
  },
  {
   "cell_type": "markdown",
   "metadata": {
    "slideshow": {
     "slide_type": "slide"
    }
   },
   "source": [
    "### Network domains ###\n",
    "In the table above, each network is tagged by one of six scientific domains.\n",
    "This is a rough taxonomy of the kind of underlying system the network models:\n",
    "\n",
    " - **Information networks** include both web graphs, software graphs, and document networks, all of which are defined by citation-like interactions, as well as semantic networks, where edges denote abstract or ontological relationships. This category also includes networks based on pairwise similarity or relatedness scores that do not obviously fall into some other category.\n",
    "\n",
    " - **Technological networks** capture systems fundamentally grounded in technology, and especially computer technology, such as the Internet or various other kinds of electronic communication networks.\n",
    "\n",
    " - **Transportation networks** describe systems of physical transportation, such as roads, railroads, airplanes, ships, etc., but they can also represent animal transportation systems, e.g., ant trails."
   ]
  },
  {
   "cell_type": "markdown",
   "metadata": {
    "slideshow": {
     "slide_type": "slide"
    }
   },
   "source": [
    "## Graph properties of networks ##\n",
    "\n",
    "Generally speaking, a network is a set of nodes endowed with pairwise interactions.\n",
    "Through a set of *graph properties*, we may define the specific aspects of the underlying system that the network captures.\n",
    "\n",
    "Formally, we define a graph or network as $G = (V, E)$, where $V$ is the set of *vertices*, and $E$ is the set of *edges*.\n",
    "Each edge is a *pair* of nodes $i,j\\in V$ such that $(i,j)\\in E$."
   ]
  },
  {
   "cell_type": "markdown",
   "metadata": {
    "slideshow": {
     "slide_type": "slide"
    }
   },
   "source": [
    "### Simple graphs ###\n",
    "The most basic kind of network is called a **simple graph**, which has the following properties:\n",
    "1. edges are *undirected*: a connection $(i,j)\\in E$ implies a connection $(j, i) \\in E$\n",
    "2. edges are *unweighted*: edges are either present or absent (a **binary** relation)\n",
    "3. there are *no self-loops*: no edge connects a vertex to itself $(i, i) \\notin E$\n",
    "4. there are *no annotations* on the nodes, except that nodes are uniquely indexed\n",
    "\n",
    "<img src=\"images/simple_nonsimple_graphs.png\" alt=\"A comparison of simple and non-simple graphs\" title=\"A comparison of simple and non-simple graphs\" style=\"width: 500px;\"/>"
   ]
  },
  {
   "cell_type": "markdown",
   "metadata": {
    "slideshow": {
     "slide_type": "slide"
    }
   },
   "source": [
    "### Non-simple graphs ###\n",
    "When we relax any of the properties that define simple graphs, we get a richer network representation of the underlying system (but, generally, more *difficult to anayze*!)\n",
    "\n",
    "We may list common graph properties, arranged by whether the property is a function of an edge, a node, or the whole network.\n",
    "\n",
    "| Edge properties | Node properties | Network properties |\n",
    "| :- | :- | :- |\n",
    "| unweighted or weighted (or signed) | attributes |  sparse or dense |\n",
    "| undirected or directed | coordinates | sparse or dense |\n",
    "| multigraph | state variables | bipartite or projection |\n",
    "| timestamps |   | connected or disconnected | \n",
    "|   |   | acyclic |\n",
    "|   |   | temporal |\n",
    "|   |   | multiplex |\n",
    "|   |   | hypergraph |"
   ]
  },
  {
   "cell_type": "markdown",
   "metadata": {
    "slideshow": {
     "slide_type": "slide"
    }
   },
   "source": [
    "### Networks with edge attributes ###\n",
    "\n",
    "In **weighted** networks, each edge $(i, j)$ has an associated scalar value or *edge weight* $w_{ij}$, which\n",
    "might represent:\n",
    "- the *frequency* of interaction ($w_{ij} \\in \\mathbb{Z}$)\n",
    "- the interaction's *strength* ($w_{ij} \\in \\mathbb{R}$)\n",
    "- the interaction's *type* ($w_{ij} \\in \\{−1, +1\\}$), e.g., trust/distrust in a social system --> in this case the networks is **signed**\n",
    "\n",
    "How would you define weights for the networks in the figure?\n",
    "\n",
    "<img src=\"images/italy_airports_roads.png\" alt=\"Airport and road network Italy\" title=\"Airport and road network Italy\" style=\"width: 450px;\"/>"
   ]
  },
  {
   "cell_type": "markdown",
   "metadata": {
    "slideshow": {
     "slide_type": "slide"
    }
   },
   "source": [
    "### Networks with edge attributes ###\n",
    "\n",
    "Edges annotations can be arbitrarily complicated, e.g., a vector of continuous or categorical (e.g., tags or colors) attributes.\n",
    "A typical example is a **time** attribute:\n",
    "- when an edge attribute denotes a discrete *point* in time $t \\in \\mathbb{N}$ at which that edge exists, we say the network is a **temporal** network, and each group of co-occurring edges (same $t$) is a network \"snapshot\"\n",
    "- when edges are annotated by a *starting and stopping* time, as in a network of phone calls or a network of physical proximities, then edges have a continuous *duration*, and we instead say the network has **timestamps**.\n",
    "\n",
    "<img src=\"images/temporal2.png\" alt=\"A comparison of static and temporal networks\" title=\"A comparison of static and temporal networks\" style=\"width: 350px;\"/>"
   ]
  },
  {
   "cell_type": "markdown",
   "metadata": {},
   "source": [
    "### Networks with edge attributes ###\n",
    "\n",
    "A **multigraph** relaxes the prohibition against *repeated* connections (and generally also against *self-loops*), meaning that there exists a **multiplicity** of edges $(i, j) \\in E$.\n",
    "For instance, in a network of neuron cells, two neurons can have multiple synapses and we might wish to represent each such connection as a distinct edge.\n",
    "\n",
    "How would you define a multigraph from the network in the figure?\n",
    "\n",
    "<img src=\"images/italy_airports_roads.png\" alt=\"Airport and road network Italy\" title=\"Airport and road network Italy\" style=\"width: 450px;\"/>"
   ]
  },
  {
   "cell_type": "markdown",
   "metadata": {
    "slideshow": {
     "slide_type": "slide"
    }
   },
   "source": [
    "### Networks with node attributes ###\n",
    "\n",
    "Nodes can also have **attributes** or **metadata** attached to them, denoted as $x_i$:\n",
    "- *categorical* variables (sometimes called “labels”)\n",
    "- single scalars or vectors representing *state* variables\n",
    "- spatial *coordinates* or locations in some metric space\n",
    "\n",
    "For example:\n",
    "- if nodes are cities, node attributes might include the city's population and GPS coordinates\n",
    "- in a social network, node metadata may include age, sex, and location\n",
    "- in a protein-interaction network, node attributes might include the molecular weight or Gene Ontology functional labels"
   ]
  },
  {
   "cell_type": "markdown",
   "metadata": {
    "slideshow": {
     "slide_type": "slide"
    }
   },
   "source": [
    "### Directed networks ###\n",
    "\n",
    "If edges can be *asymmetric*, we call them **directed**, meaning that the edge $(i, j)$ can occur independently of $(j, i)$.\n",
    "The World Wide Web is a familiar directed network: webpages are nodes, and hyperlinks are the directed edges.\n",
    "Many biological networks are directed, including gene regulation and neural activation.\n",
    "\n",
    "<img src=\"images/directed_network.png\" alt=\"A comparison of directed and undirected graphs\" title=\"A comparison of directed and undirected graphs\" style=\"width: 350px;\"/>"
   ]
  },
  {
   "cell_type": "markdown",
   "metadata": {
    "slideshow": {
     "slide_type": "slide"
    }
   },
   "source": [
    "### Paths ###\n",
    "\n",
    "A **path** from vertex $i_s\\in V$ to vertex $i_e\\in V$ is an ordered sequence of vertices $i_s=i_0,\\ldots,i_k=i_e \\in V$ such that $(i_h,i_{h+1})\\in E$ for all $h=0,\\ldots,k-1$.\n",
    "The number of edges in the path, $k$ in the example, is the *length* of the path. We will often use the notation $i → \\cdots → j$ to denote a path from $i$ to $j$.\n",
    "A **cycle** is a path such that $i_s=i_e$.\n",
    "A network is **acyclic** if it contains no cycles. \n",
    "\n",
    "### Acyclic directed networks ###\n",
    "\n",
    "A directed network is acyclic if, for every possible $i, j \\in V$, if there exists a path $i → \\cdots → j$, then no path exists in the reverse direction $j → \\cdots → i$.\n",
    "\n",
    "For instance, a *citation network* is composed of the set of published scientific papers, and an edge $(i, j) \\in E$ if paper $i$ cites paper $j$ in its bibliography.\n",
    "Citation networks are (in theory) directed acyclic graphs because of time: if $(i,j)\\in E$, i.e., if $i$ cites $j$, then $i$ is newer then $j$ and, therefore, $j$ cannot cite $i$; for the sema reason, a cycle cannot exist (in practice, preprints sometimes permit cycles in citation networks)."
   ]
  },
  {
   "cell_type": "markdown",
   "metadata": {
    "slideshow": {
     "slide_type": "slide"
    }
   },
   "source": [
    "### Neighbors, neighborhoods, degree ##\n",
    "\n",
    "- A vertex $j\\in V$ is a **neighbor** of $i\\in V$ if $(i,j)\\in E$ or $(j,i)\\in E$\n",
    "- In directed graphs, we distinguish **in-neighbors** and **out-neighbors** \n",
    "- The (in-,out-)**neighborhood** of $i$ is the set of its (in-,out-)neighbors\n",
    "- The **degree** of $i$ is the number of vertices in $i$'s neighborhood\n",
    "- In directed graphs, we distinguish $i$'s **in-degree** and **out-degree**"
   ]
  },
  {
   "cell_type": "markdown",
   "metadata": {
    "slideshow": {
     "slide_type": "slide"
    }
   },
   "source": [
    "### Subgraphs ###\n",
    "\n",
    "- $G_1=(V_1,E_1)$ is a **subgraph** of another graph $G=(V,E)$ if $V_1\\subset V$ and $E_1\\subset E$\n",
    "- Given $G=(V,E)$ and $V_1\\subset V$, the subgraph of $G$ **induced** by $V_1$ is the graph $G_1=(V_1,E_1)$ such that $E_1=\\{(i,j)\\in E \\text{ such that } i,j\\in V_1\\}$\n",
    "- Given $G=(V,E)$ and $E_1\\subset E$, the subgraph of $G$ **induced** by $E_1$ is the graph $G_1=(V_1,E_1)$ such that $V_1=\\{i\\in V \\text{ such that there exist } j \\text{ such that } (i,j)\\in E_1 \\text{ or } (j,i)\\in E_1\\}$\n",
    "\n",
    "### Complete graphs and cliques ###\n",
    "\n",
    "- A graph $G=(V,E)$ is **complete** if it contains all possible edges, i.e., if $E=\\{(i,j) \\text{ for all } i,j\\in V\\}$\n",
    "- A complete subgraph is called a **clique**"
   ]
  },
  {
   "cell_type": "markdown",
   "metadata": {
    "slideshow": {
     "slide_type": "slide"
    }
   },
   "source": [
    "### Bipartite networks and one-mode projections ###\n",
    "\n",
    "**Bipartite** networks are networks where the set of vertices V is composed of 2 distinct classes of nodes and only nodes of different classes interact.\n",
    "Formally:  $V = V_1 \\cup V_2$ with $V_1\\cap V_2=\\emptyset$, and, for all $(i,j)\\in E$, $i\\in V_1$ if and only if $j\\in V_2$.\n",
    "\n",
    "A popular type of bipartite graph is the actor-film network, in which actors and films represent the two classes, and actors connect to the films in which they play a part.\n",
    "\n",
    "Often, a bipartite graph is the *natural* way to represent a system, but we are interested in the relations between the elements of one of the two classes.\n",
    "In this case, we operate a conversion called a **one-mode projection**: we connect any two vertices on one side of the bipartite network if their neighborhoods are \"sufficiently similar\" (e.g., if they share at least one neighbor).\n",
    "\n",
    "<img src=\"images/bipartite_graph.png\" alt=\"A bipartite graph and its projections\" title=\"A bipartite graph and its projections\" style=\"width: 400px;\"/>"
   ]
  },
  {
   "cell_type": "markdown",
   "metadata": {
    "slideshow": {
     "slide_type": "slide"
    }
   },
   "source": [
    "### Bipartite networks and one-mode projections ###\n",
    "\n",
    "For instance:\n",
    "- the actor-collaboration network is the projection on the actor side of the actor-film network\n",
    "- the twitter retweet network is the projection on the user side of the user-tweet network in which a (directed) link $(u,t)$ means that $u$ authored $t$ and a link $(t,u)$ means that $u$ retweeted $t$\n",
    "\n",
    "Projections can also be *weighted*: $(i, j)$ in the projection may be given a weight $w_ij$ that corresponds to its multiplicity as a result of the projection procedure\n",
    "\n",
    "Remarks:\n",
    "1. the one-mode projection may produces **cliques**: if we connect all nodes of $V_1$ with a common neighbor in $V_2$, for all $j\\in V_2$ the neighborhood of $j$ will be a clique in the projection\n",
    "2. the same one-mode projection may result from multiple different bipartite networks: the projection operation is surjective but not bijective (can you prove it?)"
   ]
  },
  {
   "cell_type": "markdown",
   "metadata": {
    "slideshow": {
     "slide_type": "slide"
    }
   },
   "source": [
    "### Connected networks and components ###\n",
    "\n",
    "A simple network is **connected** if for every pair of nodes $i, j \\in V$, $j$ is *reachable* from $i$, i.e., there exists a path $i → \\cdots → j$ (\"for every\" means that a path exists in *both directions*).\n",
    "Otherwise, the network is **disconnected**.\n",
    "The minimum number of edges for a network with $|V|=n$ is $m = n − 1$ (can you prove it?).\n",
    "A the subgraph induced by a connected subset $T\\subset V$ is called a **connected component**.\n",
    "\n",
    "<img src=\"images/components.png\" alt=\"The connected components of a graph\" title=\"The connected components of a graph\" style=\"width: 500px;\"/>\n",
    "\n",
    "In a directed network, a subset $T\\subset V$ induces a\n",
    "- **strongly connected component** if, for all $i,j \\in T$, $i$ is reachable from $j$ *and* $j$ is reachable from $i$\n",
    "- **weakly connected component** if, for all $i,j \\in T$, *either* $i$ is reachable from $j$ *or* $j$ is reachable from $i$"
   ]
  },
  {
   "cell_type": "markdown",
   "metadata": {
    "slideshow": {
     "slide_type": "slide"
    }
   },
   "source": [
    "### Temporal, dynamic and evolving networks ###\n",
    "\n",
    "Often, graphs do *change over time*:\n",
    "- in citation networks, new vertices join the network continuously with new edges representing citations to older papers\n",
    "- in online social networks, friendship edges are added or removed even when the vertex set is static\n",
    "\n",
    "A network that varies over time is denoted **temporal** or **dynamic** or **evolving**.\n",
    "\n",
    "- the term **temporal** is used when time is **discrete** and the network can be represented as a *sequence* of static networks (\"snapshots\") -- each snapshot may describe what happens *at time* $t$ or what happens *between* $t$ and $t+1$\n",
    "- the term **time-stamped** is used when time is **continuous** and the edges are annotated with an interval, e.g., $(i, j, t_1, t_2)$\n",
    "\n",
    "<img src=\"images/temporal.png\" alt=\"A temporal network\" title=\"A temporal network\" style=\"width: 600px;\"/>"
   ]
  },
  {
   "cell_type": "markdown",
   "metadata": {
    "slideshow": {
     "slide_type": "slide"
    }
   },
   "source": [
    "### Multiplex networks, spatial networks, and hypergraphs ###\n",
    "\n",
    "A network composed of multiple \"layers\" of edges is called a **multiplex** or **multilayer** network.\n",
    "Each layer corresponds to a different *type* of relation/interaction, e.g., followers/followees, retweets and mentions in Twitter. \n",
    "\n",
    "<img src=\"images/multilayer.png\" alt=\"A multilayer network\" title=\"A multilayer network\" style=\"width: 300px;\"/>"
   ]
  },
  {
   "cell_type": "markdown",
   "metadata": {
    "slideshow": {
     "slide_type": "slide"
    }
   },
   "source": [
    "### Spatial networks ###\n",
    "\n",
    "In a **spatial** network each vertex is annotated with its **location** in some $d$-dimensional space.\n",
    "For instance:\n",
    "- transportation networks, e.g., road, city, airport networks\n",
    "- oil and gas distribution networks\n",
    "- online social networks (especially if *location-based*, e.g., Foursquare or Yelp)\n",
    "\n",
    "In some cases, the location has an impact on the probability that a link exists.\n",
    "\n",
    "### Hypergraphs ### \n",
    "\n",
    "In **hypergraphs** edges denote *higher-order* interactions that involve more than two\n",
    "vertices, e.g, $E \\subset V\\times V\\times V$.\n",
    "For instance, we may represent as hypergraphs:\n",
    "- scientific collaboration graphs \n",
    "- co-location graphs"
   ]
  },
  {
   "cell_type": "markdown",
   "metadata": {
    "slideshow": {
     "slide_type": "slide"
    }
   },
   "source": [
    "## Network analysis and modeling ##\n",
    "\n",
    "Based on the scope and goal, the study of a system may be classified as\n",
    "\n",
    "1. **Exploratory**: a descriptive analysis aimed at producing a clear view of the kinds of statistical patterns that exist in a network \n",
    "2. **Explanatory**: an analysis that seeks to \"explain\" some observed pattern as being driven by some other, hopefully more fundamental variable\n",
    "3. **Predictive**: a type of modeling that aims to construct a predictive model of either node attributes (including future state variables) or structural features, using other network information as the input \n",
    "4. **Causal**: a modeling effort whose goal is the identification of cause-and-effect relations that involve networks"
   ]
  },
  {
   "cell_type": "markdown",
   "metadata": {
    "slideshow": {
     "slide_type": "slide"
    }
   },
   "source": [
    "## Network analysis and modeling ##\n",
    "\n",
    "Example: news diffusion in social networks\n",
    "- exploratory: identify the paths that a specific news piece followed on a social network\n",
    "- explanatory: show that such paths are long when they start at a \"central\" vertex, short otherwise\n",
    "- predictive: given a news piece and a starting vertex, predict the length of the diffusion path\n",
    "- causal: show that sharing a news piece is indeed driven by influence from friends' behavior; when a path starts from a central vertex, it is just more likely that some of your friends will share that news piece"
   ]
  },
  {
   "cell_type": "markdown",
   "metadata": {
    "slideshow": {
     "slide_type": "slide"
    }
   },
   "source": [
    "### Exploratory analysis ###\n",
    "\n",
    "- largely **unsupervised** \n",
    "- based on **statistical summaries** of the network's structure\n",
    "    - degree distribution\n",
    "    - community structure\n",
    "    - node-level measures of centrality\n",
    "- often the starting point with a new dataset: what patterns are **worth explaining**?\n",
    "- successful if it results in one or more **hypotheses** about potential causal effects or underlying mechanisms that relate to a network's structure\n",
    "- cannot test those hypotheses, but it can use **null models** to decide if some pattern is interesting: is the pattern distinguishable from \"noise\"?\n",
    "- requires **creativity**, mathematical **intuition**, **algorithmic** tools and **statistical** rigor"
   ]
  },
  {
   "cell_type": "markdown",
   "metadata": {
    "slideshow": {
     "slide_type": "slide"
    }
   },
   "source": [
    "### Exploratory analysis ###\n",
    "\n",
    "Many exploratory network analysis tasks can be reduced to estimating a **low-dimensional** form for the probability $p_{ij}$ that an edge $(i, j)$ exists, i.e., a form that depends on a limited number of variables.\n",
    "This means that the network is *simple*, its features are easier to *predict* (and to exploit).\n",
    "\n",
    "For instance, consider a pair of individuals $i$ and $j$ on Facebook.\n",
    "- $i$ and $j$ are described by *observable* attributes (shared on Facebook) and *latent* attributed (not shared)\n",
    "- there are latent attributes of the *pair* (are them family? do they work together?)\n",
    "- the existence of the edge $(i,j)$ may depend on all of these attributes and more (e.g., actions of other users on Facebook)\n",
    "\n",
    "What if $p_{ij}$ mostly depended on $i$ and $j$'s age and sex?"
   ]
  },
  {
   "cell_type": "markdown",
   "metadata": {
    "slideshow": {
     "slide_type": "slide"
    }
   },
   "source": [
    "### Explanatory analysis ###\n",
    "\n",
    "- often takes the form of explaining how some attribute of a node **correlates** with the network structural patterns that surround that node\n",
    "- often based on converting the network itself into additional node-level features and then carry out traditional explanatory modeling\n",
    "- beware: the network characteristics of a node may be **mutually dependent** \n",
    "\n",
    "Example:\n",
    "- what is the relation between a node's wealth, central position in the network and influence on other nodes?\n",
    "- we may measure the centrality, measure the influence (how?) and test for correlation of the three attributes\n",
    "- if network influence and network centrality are *always* correlated, which one is *truly* related to wealth?"
   ]
  },
  {
   "cell_type": "markdown",
   "metadata": {
    "slideshow": {
     "slide_type": "slide"
    }
   },
   "source": [
    "### Predictive analysis ###\n",
    "\n",
    "Often uses machine learning: classification, regression, Bayesian models, etc.\n",
    "\n",
    "Example: **recommendation** algorithms (e.g., on Netflix or Amazon) are **link prediction** algorithms\n",
    "- bipartite user-product network\n",
    "- node attributes describe users and products\n",
    "- can we predict which links are *missing*?\n",
    "- if we just consider users (or project onto the user side), we get Facebook's \"People You May Know\", Instagram's \"Suggestions for you\", or Twitter's \"Who to follow\""
   ]
  },
  {
   "cell_type": "markdown",
   "metadata": {
    "slideshow": {
     "slide_type": "slide"
    }
   },
   "source": [
    "### Causal analysis ###\n",
    "\n",
    "- statisticians and machine learners favor **causal inference** models that can be applied to an observed network and its dynamics\n",
    "    - may be complex to disentangle different \"paths\" of influence, but do not require controlled experiments\n",
    "- biologists and some social scientists often favor **network experiments**, e.g., inducing some change in the network and then observing the subsequent effects\n",
    "    - may be impossible or very expensive, because it requires access to the (entire) network\n",
    "- mathematicians and physicists tend to favor **mathematical models**: embed causality in the model (e.g., a stochastic process), and compare the predictions of the model with empirical data\n",
    "    - in general, you may verify that a model is *sufficient* to explain a phenomenon, not that it is *necessary* (are there alternative explanations?)\n",
    "    \n",
    "Causal modeling is often **hypothesis driven**: we already have in mind some notion of why and how an effect of interest comes about."
   ]
  },
  {
   "cell_type": "markdown",
   "metadata": {
    "slideshow": {
     "slide_type": "slide"
    }
   },
   "source": [
    "## A brief introduction to python-igraph ##\n",
    "\n",
    "There are many libraries for network analysis in python.\n",
    "My favorite is [python-igraph](https://igraph.org/python/)\n",
    "\n",
    "<img src=\"images/igraph.png\" alt=\"Igraph logo\" title=\"Igraph logo\" style=\"width: 300px;\"/>\n",
    "\n",
    " * written in C/C++ with interfaces to Python and R \n",
    " * pros: performance and speed; cons: installation can be a hurdle\n",
    " \n",
    "A tutorial is available [here](https://igraph.org/python/tutorial/latest/tutorial.html)."
   ]
  },
  {
   "cell_type": "code",
   "execution_count": 5,
   "metadata": {
    "slideshow": {
     "slide_type": "slide"
    }
   },
   "outputs": [],
   "source": [
    "# import the module\n",
    "import igraph\n",
    "# create an empty graph\n",
    "G = igraph.Graph()\n",
    "# add 10 vertices\n",
    "G.add_vertices(10)\n",
    "# label the vertices with increasing indices from 0 to 9\n",
    "G.vs['label'] = range(10)\n",
    "# add a few edges\n",
    "G.add_edges([(0,1),(0,2),(0,4),(1,2),(1,3),(2,4),(3,4),(3,5),(4,5),(6,7),(6,8),(6,9),(8,9)])"
   ]
  },
  {
   "cell_type": "code",
   "execution_count": 6,
   "metadata": {
    "slideshow": {
     "slide_type": "slide"
    }
   },
   "outputs": [
    {
     "ename": "AttributeError",
     "evalue": "plotting not available",
     "output_type": "error",
     "traceback": [
      "\u001b[1;31m---------------------------------------------------------------------------\u001b[0m",
      "\u001b[1;31mAttributeError\u001b[0m                            Traceback (most recent call last)",
      "\u001b[1;32m<ipython-input-6-b49e9832daf3>\u001b[0m in \u001b[0;36m<module>\u001b[1;34m\u001b[0m\n\u001b[0;32m      2\u001b[0m \u001b[0mvisual_style\u001b[0m \u001b[1;33m=\u001b[0m \u001b[1;33m{\u001b[0m\u001b[1;34m\"bbox\"\u001b[0m\u001b[1;33m:\u001b[0m\u001b[1;33m(\u001b[0m\u001b[1;36m300\u001b[0m\u001b[1;33m,\u001b[0m\u001b[1;36m300\u001b[0m\u001b[1;33m)\u001b[0m\u001b[1;33m,\u001b[0m \u001b[1;34m\"margin\"\u001b[0m\u001b[1;33m:\u001b[0m\u001b[1;36m20\u001b[0m\u001b[1;33m}\u001b[0m\u001b[1;33m\u001b[0m\u001b[1;33m\u001b[0m\u001b[0m\n\u001b[0;32m      3\u001b[0m \u001b[1;31m# plot G\u001b[0m\u001b[1;33m\u001b[0m\u001b[1;33m\u001b[0m\u001b[1;33m\u001b[0m\u001b[0m\n\u001b[1;32m----> 4\u001b[1;33m \u001b[0migraph\u001b[0m\u001b[1;33m.\u001b[0m\u001b[0mplot\u001b[0m\u001b[1;33m(\u001b[0m\u001b[0mG\u001b[0m\u001b[1;33m,\u001b[0m \u001b[1;33m**\u001b[0m\u001b[0mvisual_style\u001b[0m\u001b[1;33m)\u001b[0m\u001b[1;33m\u001b[0m\u001b[1;33m\u001b[0m\u001b[0m\n\u001b[0m",
      "\u001b[1;32m~\\Anaconda3\\lib\\site-packages\\igraph\\drawing\\__init__.py\u001b[0m in \u001b[0;36mplot\u001b[1;34m(obj, target, bbox, *args, **kwds)\u001b[0m\n\u001b[0;32m    486\u001b[0m         \u001b[0mbbox\u001b[0m \u001b[1;33m=\u001b[0m \u001b[0mBoundingBox\u001b[0m\u001b[1;33m(\u001b[0m\u001b[0mbbox\u001b[0m\u001b[1;33m)\u001b[0m\u001b[1;33m\u001b[0m\u001b[1;33m\u001b[0m\u001b[0m\n\u001b[0;32m    487\u001b[0m \u001b[1;33m\u001b[0m\u001b[0m\n\u001b[1;32m--> 488\u001b[1;33m     \u001b[0mresult\u001b[0m \u001b[1;33m=\u001b[0m \u001b[0mPlot\u001b[0m\u001b[1;33m(\u001b[0m\u001b[0mtarget\u001b[0m\u001b[1;33m,\u001b[0m \u001b[0mbbox\u001b[0m\u001b[1;33m,\u001b[0m \u001b[0mbackground\u001b[0m\u001b[1;33m=\u001b[0m\u001b[0mkwds\u001b[0m\u001b[1;33m.\u001b[0m\u001b[0mget\u001b[0m\u001b[1;33m(\u001b[0m\u001b[1;34m\"background\"\u001b[0m\u001b[1;33m,\u001b[0m \u001b[1;34m\"white\"\u001b[0m\u001b[1;33m)\u001b[0m\u001b[1;33m)\u001b[0m\u001b[1;33m\u001b[0m\u001b[1;33m\u001b[0m\u001b[0m\n\u001b[0m\u001b[0;32m    489\u001b[0m \u001b[1;33m\u001b[0m\u001b[0m\n\u001b[0;32m    490\u001b[0m     \u001b[1;32mif\u001b[0m \u001b[1;34m\"margin\"\u001b[0m \u001b[1;32min\u001b[0m \u001b[0mkwds\u001b[0m\u001b[1;33m:\u001b[0m\u001b[1;33m\u001b[0m\u001b[1;33m\u001b[0m\u001b[0m\n",
      "\u001b[1;32m~\\Anaconda3\\lib\\site-packages\\igraph\\drawing\\__init__.py\u001b[0m in \u001b[0;36m__init__\u001b[1;34m(self, target, bbox, palette, background)\u001b[0m\n\u001b[0;32m    124\u001b[0m         \"\"\"\n\u001b[0;32m    125\u001b[0m         \u001b[0mself\u001b[0m\u001b[1;33m.\u001b[0m\u001b[0m_filename\u001b[0m \u001b[1;33m=\u001b[0m \u001b[1;32mNone\u001b[0m\u001b[1;33m\u001b[0m\u001b[1;33m\u001b[0m\u001b[0m\n\u001b[1;32m--> 126\u001b[1;33m         \u001b[0mself\u001b[0m\u001b[1;33m.\u001b[0m\u001b[0m_surface_was_created\u001b[0m \u001b[1;33m=\u001b[0m \u001b[1;32mnot\u001b[0m \u001b[0misinstance\u001b[0m\u001b[1;33m(\u001b[0m\u001b[0mtarget\u001b[0m\u001b[1;33m,\u001b[0m \u001b[0mcairo\u001b[0m\u001b[1;33m.\u001b[0m\u001b[0mSurface\u001b[0m\u001b[1;33m)\u001b[0m\u001b[1;33m\u001b[0m\u001b[1;33m\u001b[0m\u001b[0m\n\u001b[0m\u001b[0;32m    127\u001b[0m         \u001b[0mself\u001b[0m\u001b[1;33m.\u001b[0m\u001b[0m_need_tmpfile\u001b[0m \u001b[1;33m=\u001b[0m \u001b[1;32mFalse\u001b[0m\u001b[1;33m\u001b[0m\u001b[1;33m\u001b[0m\u001b[0m\n\u001b[0;32m    128\u001b[0m \u001b[1;33m\u001b[0m\u001b[0m\n",
      "\u001b[1;32m~\\Anaconda3\\lib\\site-packages\\igraph\\drawing\\utils.py\u001b[0m in \u001b[0;36m__getattr__\u001b[1;34m(self, _)\u001b[0m\n\u001b[0;32m    408\u001b[0m \u001b[1;33m\u001b[0m\u001b[0m\n\u001b[0;32m    409\u001b[0m     \u001b[1;32mdef\u001b[0m \u001b[0m__getattr__\u001b[0m\u001b[1;33m(\u001b[0m\u001b[0mself\u001b[0m\u001b[1;33m,\u001b[0m \u001b[0m_\u001b[0m\u001b[1;33m)\u001b[0m\u001b[1;33m:\u001b[0m\u001b[1;33m\u001b[0m\u001b[1;33m\u001b[0m\u001b[0m\n\u001b[1;32m--> 410\u001b[1;33m         \u001b[1;32mraise\u001b[0m \u001b[0mAttributeError\u001b[0m\u001b[1;33m(\u001b[0m\u001b[1;34m\"plotting not available\"\u001b[0m\u001b[1;33m)\u001b[0m\u001b[1;33m\u001b[0m\u001b[1;33m\u001b[0m\u001b[0m\n\u001b[0m\u001b[0;32m    411\u001b[0m \u001b[1;33m\u001b[0m\u001b[0m\n\u001b[0;32m    412\u001b[0m     \u001b[1;32mdef\u001b[0m \u001b[0m__call__\u001b[0m\u001b[1;33m(\u001b[0m\u001b[0mself\u001b[0m\u001b[1;33m,\u001b[0m \u001b[0m_\u001b[0m\u001b[1;33m)\u001b[0m\u001b[1;33m:\u001b[0m\u001b[1;33m\u001b[0m\u001b[1;33m\u001b[0m\u001b[0m\n",
      "\u001b[1;31mAttributeError\u001b[0m: plotting not available"
     ]
    }
   ],
   "source": [
    "# set a visual style for the plot\n",
    "visual_style = {\"bbox\":(300,300), \"margin\":20}\n",
    "# plot G\n",
    "igraph.plot(G, **visual_style)"
   ]
  },
  {
   "cell_type": "code",
   "execution_count": null,
   "metadata": {
    "slideshow": {
     "slide_type": "slide"
    }
   },
   "outputs": [],
   "source": [
    "# show a summary of G's characteristics\n",
    "print(G.summary())\n",
    "print('''\n",
    "in the above summary:\n",
    "- U stands for \"undirected\", alternative is D for \"directed\"\n",
    "- the second letter is N if the graph has a vertex attribute called name, or a dash otherwise\n",
    "- the third letter is W if the graph is weighted, or a dash otherwise\n",
    "- the fourth letter is B if the graph has a vertex attribute called type (B stands for \"bipartite\"), or a dash otherwise\n",
    "- the two numbers are the number of vertices and the number of edges\n",
    "''')"
   ]
  },
  {
   "cell_type": "code",
   "execution_count": 19,
   "metadata": {
    "slideshow": {
     "slide_type": "slide"
    }
   },
   "outputs": [
    {
     "name": "stdout",
     "output_type": "stream",
     "text": [
      "IGRAPH U--- 10 12 -- \n",
      "+ attr: label (v)\n",
      "\n",
      "In the above summary:\n",
      "- U stands for \"undirected\", alternative is D for \"directed\"\n",
      "- The second letter is N if the graph has a vertex attribute called name, or a dash otherwise\n",
      "- The third letter is W if the graph is weighted, or a dash otherwise\n",
      "- The fourth letter is B if the graph has a vertex attribute called type (B stands for \"bipartite\"), or a dash otherwise\n",
      "- The two numbers are the number of vertices and the number of edges\n",
      "\n",
      "Number of vertices in G: 10\n",
      "Number of edges in G: 12\n",
      "G has the following vertex attributes: ['label']\n",
      "G has the following edge attributes: []\n"
     ]
    }
   ],
   "source": [
    "# the number of vertices and edges can be directly obtained like this:\n",
    "print('number of vertices in G:', G.vcount())\n",
    "print('number of edges in G:', G.ecount())\n",
    "\n",
    "# list of vertex and edge attributed (if any):\n",
    "print('G has the following vertex attributes:', G.vertex_attributes())\n",
    "print('G has the following edge attributes:', G.edge_attributes())"
   ]
  },
  {
   "cell_type": "code",
   "execution_count": 46,
   "metadata": {
    "scrolled": true,
    "slideshow": {
     "slide_type": "slide"
    }
   },
   "outputs": [
    {
     "name": "stdout",
     "output_type": "stream",
     "text": [
      "is G graph connected? False\n",
      "this is one of the components:\n"
     ]
    },
    {
     "data": {
      "image/svg+xml": "<?xml version=\"1.0\" encoding=\"UTF-8\"?>\n<svg xmlns=\"http://www.w3.org/2000/svg\" xmlns:xlink=\"http://www.w3.org/1999/xlink\" width=\"300pt\" height=\"300pt\" viewBox=\"0 0 300 300\" version=\"1.1\">\n<defs>\n<g>\n<symbol overflow=\"visible\" id=\"glyph0-0\">\n<path style=\"stroke:none;\" d=\"M 0.703125 2.46875 L 0.703125 -9.875 L 7.703125 -9.875 L 7.703125 2.46875 Z M 1.484375 1.703125 L 6.921875 1.703125 L 6.921875 -9.078125 L 1.484375 -9.078125 Z M 1.484375 1.703125 \"/>\n</symbol>\n<symbol overflow=\"visible\" id=\"glyph0-1\">\n<path style=\"stroke:none;\" d=\"M 4.453125 -9.296875 C 3.742188 -9.296875 3.207031 -8.945312 2.84375 -8.25 C 2.488281 -7.550781 2.3125 -6.5 2.3125 -5.09375 C 2.3125 -3.695312 2.488281 -2.644531 2.84375 -1.9375 C 3.207031 -1.238281 3.742188 -0.890625 4.453125 -0.890625 C 5.171875 -0.890625 5.707031 -1.238281 6.0625 -1.9375 C 6.414062 -2.644531 6.59375 -3.695312 6.59375 -5.09375 C 6.59375 -6.5 6.414062 -7.550781 6.0625 -8.25 C 5.707031 -8.945312 5.171875 -9.296875 4.453125 -9.296875 Z M 4.453125 -10.390625 C 5.597656 -10.390625 6.472656 -9.9375 7.078125 -9.03125 C 7.679688 -8.125 7.984375 -6.8125 7.984375 -5.09375 C 7.984375 -3.375 7.679688 -2.0625 7.078125 -1.15625 C 6.472656 -0.25 5.597656 0.203125 4.453125 0.203125 C 3.304688 0.203125 2.429688 -0.25 1.828125 -1.15625 C 1.222656 -2.0625 0.921875 -3.375 0.921875 -5.09375 C 0.921875 -6.8125 1.222656 -8.125 1.828125 -9.03125 C 2.429688 -9.9375 3.304688 -10.390625 4.453125 -10.390625 Z M 4.453125 -10.390625 \"/>\n</symbol>\n<symbol overflow=\"visible\" id=\"glyph0-2\">\n<path style=\"stroke:none;\" d=\"M 1.734375 -1.15625 L 4 -1.15625 L 4 -8.953125 L 1.53125 -8.453125 L 1.53125 -9.71875 L 3.984375 -10.203125 L 5.359375 -10.203125 L 5.359375 -1.15625 L 7.609375 -1.15625 L 7.609375 0 L 1.734375 0 Z M 1.734375 -1.15625 \"/>\n</symbol>\n<symbol overflow=\"visible\" id=\"glyph0-3\">\n<path style=\"stroke:none;\" d=\"M 2.6875 -1.15625 L 7.5 -1.15625 L 7.5 0 L 1.03125 0 L 1.03125 -1.15625 C 1.550781 -1.695312 2.265625 -2.425781 3.171875 -3.34375 C 4.078125 -4.257812 4.644531 -4.847656 4.875 -5.109375 C 5.3125 -5.609375 5.617188 -6.03125 5.796875 -6.375 C 5.972656 -6.71875 6.0625 -7.054688 6.0625 -7.390625 C 6.0625 -7.929688 5.867188 -8.375 5.484375 -8.71875 C 5.109375 -9.0625 4.613281 -9.234375 4 -9.234375 C 3.570312 -9.234375 3.117188 -9.15625 2.640625 -9 C 2.160156 -8.851562 1.644531 -8.625 1.09375 -8.3125 L 1.09375 -9.71875 C 1.644531 -9.9375 2.160156 -10.101562 2.640625 -10.21875 C 3.128906 -10.332031 3.578125 -10.390625 3.984375 -10.390625 C 5.035156 -10.390625 5.875 -10.125 6.5 -9.59375 C 7.132812 -9.070312 7.453125 -8.367188 7.453125 -7.484375 C 7.453125 -7.054688 7.375 -6.65625 7.21875 -6.28125 C 7.0625 -5.90625 6.773438 -5.460938 6.359375 -4.953125 C 6.242188 -4.828125 5.878906 -4.445312 5.265625 -3.8125 C 4.660156 -3.175781 3.800781 -2.289062 2.6875 -1.15625 Z M 2.6875 -1.15625 \"/>\n</symbol>\n<symbol overflow=\"visible\" id=\"glyph0-4\">\n<path style=\"stroke:none;\" d=\"M 5.6875 -5.5 C 6.34375 -5.363281 6.851562 -5.070312 7.21875 -4.625 C 7.59375 -4.175781 7.78125 -3.625 7.78125 -2.96875 C 7.78125 -1.957031 7.429688 -1.175781 6.734375 -0.625 C 6.046875 -0.0703125 5.066406 0.203125 3.796875 0.203125 C 3.367188 0.203125 2.925781 0.15625 2.46875 0.0625 C 2.019531 -0.0195312 1.550781 -0.144531 1.0625 -0.3125 L 1.0625 -1.640625 C 1.445312 -1.421875 1.867188 -1.253906 2.328125 -1.140625 C 2.785156 -1.023438 3.257812 -0.96875 3.75 -0.96875 C 4.613281 -0.96875 5.269531 -1.132812 5.71875 -1.46875 C 6.175781 -1.8125 6.40625 -2.3125 6.40625 -2.96875 C 6.40625 -3.570312 6.191406 -4.039062 5.765625 -4.375 C 5.347656 -4.71875 4.765625 -4.890625 4.015625 -4.890625 L 2.828125 -4.890625 L 2.828125 -6.015625 L 4.078125 -6.015625 C 4.753906 -6.015625 5.269531 -6.148438 5.625 -6.421875 C 5.988281 -6.703125 6.171875 -7.097656 6.171875 -7.609375 C 6.171875 -8.128906 5.984375 -8.53125 5.609375 -8.8125 C 5.242188 -9.09375 4.710938 -9.234375 4.015625 -9.234375 C 3.640625 -9.234375 3.234375 -9.191406 2.796875 -9.109375 C 2.367188 -9.023438 1.894531 -8.894531 1.375 -8.71875 L 1.375 -9.953125 C 1.894531 -10.097656 2.382812 -10.207031 2.84375 -10.28125 C 3.300781 -10.351562 3.734375 -10.390625 4.140625 -10.390625 C 5.191406 -10.390625 6.019531 -10.148438 6.625 -9.671875 C 7.238281 -9.203125 7.546875 -8.5625 7.546875 -7.75 C 7.546875 -7.175781 7.382812 -6.695312 7.0625 -6.3125 C 6.738281 -5.925781 6.28125 -5.65625 5.6875 -5.5 Z M 5.6875 -5.5 \"/>\n</symbol>\n<symbol overflow=\"visible\" id=\"glyph0-5\">\n<path style=\"stroke:none;\" d=\"M 5.296875 -9 L 1.8125 -3.5625 L 5.296875 -3.5625 Z M 4.921875 -10.203125 L 6.671875 -10.203125 L 6.671875 -3.5625 L 8.125 -3.5625 L 8.125 -2.40625 L 6.671875 -2.40625 L 6.671875 0 L 5.296875 0 L 5.296875 -2.40625 L 0.6875 -2.40625 L 0.6875 -3.734375 Z M 4.921875 -10.203125 \"/>\n</symbol>\n<symbol overflow=\"visible\" id=\"glyph0-6\">\n<path style=\"stroke:none;\" d=\"M 1.515625 -10.203125 L 6.9375 -10.203125 L 6.9375 -9.046875 L 2.78125 -9.046875 L 2.78125 -6.546875 C 2.976562 -6.609375 3.175781 -6.65625 3.375 -6.6875 C 3.570312 -6.726562 3.773438 -6.75 3.984375 -6.75 C 5.117188 -6.75 6.019531 -6.4375 6.6875 -5.8125 C 7.351562 -5.1875 7.6875 -4.34375 7.6875 -3.28125 C 7.6875 -2.175781 7.34375 -1.316406 6.65625 -0.703125 C 5.976562 -0.0976562 5.015625 0.203125 3.765625 0.203125 C 3.335938 0.203125 2.898438 0.164062 2.453125 0.09375 C 2.015625 0.0195312 1.554688 -0.0859375 1.078125 -0.234375 L 1.078125 -1.625 C 1.492188 -1.40625 1.921875 -1.238281 2.359375 -1.125 C 2.796875 -1.019531 3.253906 -0.96875 3.734375 -0.96875 C 4.523438 -0.96875 5.148438 -1.171875 5.609375 -1.578125 C 6.066406 -1.992188 6.296875 -2.5625 6.296875 -3.28125 C 6.296875 -3.988281 6.066406 -4.546875 5.609375 -4.953125 C 5.148438 -5.367188 4.523438 -5.578125 3.734375 -5.578125 C 3.367188 -5.578125 3 -5.535156 2.625 -5.453125 C 2.257812 -5.378906 1.890625 -5.253906 1.515625 -5.078125 Z M 1.515625 -10.203125 \"/>\n</symbol>\n</g>\n</defs>\n<g id=\"surface64\">\n<rect x=\"0\" y=\"0\" width=\"300\" height=\"300\" style=\"fill:rgb(100%,100%,100%);fill-opacity:1;stroke:none;\"/>\n<path style=\"fill:none;stroke-width:1;stroke-linecap:butt;stroke-linejoin:miter;stroke:rgb(26.666667%,26.666667%,26.666667%);stroke-opacity:1;stroke-miterlimit:10;\" d=\"M 280 172.285156 L 123.429688 280 \"/>\n<path style=\"fill:none;stroke-width:1;stroke-linecap:butt;stroke-linejoin:miter;stroke:rgb(26.666667%,26.666667%,26.666667%);stroke-opacity:1;stroke-miterlimit:10;\" d=\"M 280 172.285156 L 245.0625 274.074219 \"/>\n<path style=\"fill:none;stroke-width:1;stroke-linecap:butt;stroke-linejoin:miter;stroke:rgb(26.666667%,26.666667%,26.666667%);stroke-opacity:1;stroke-miterlimit:10;\" d=\"M 280 172.285156 L 165.757812 110.921875 \"/>\n<path style=\"fill:none;stroke-width:1;stroke-linecap:butt;stroke-linejoin:miter;stroke:rgb(26.666667%,26.666667%,26.666667%);stroke-opacity:1;stroke-miterlimit:10;\" d=\"M 123.429688 280 L 245.0625 274.074219 \"/>\n<path style=\"fill:none;stroke-width:1;stroke-linecap:butt;stroke-linejoin:miter;stroke:rgb(26.666667%,26.666667%,26.666667%);stroke-opacity:1;stroke-miterlimit:10;\" d=\"M 123.429688 280 L 20 162.363281 \"/>\n<path style=\"fill:none;stroke-width:1;stroke-linecap:butt;stroke-linejoin:miter;stroke:rgb(26.666667%,26.666667%,26.666667%);stroke-opacity:1;stroke-miterlimit:10;\" d=\"M 245.0625 274.074219 L 165.757812 110.921875 \"/>\n<path style=\"fill:none;stroke-width:1;stroke-linecap:butt;stroke-linejoin:miter;stroke:rgb(26.666667%,26.666667%,26.666667%);stroke-opacity:1;stroke-miterlimit:10;\" d=\"M 20 162.363281 L 165.757812 110.921875 \"/>\n<path style=\"fill:none;stroke-width:1;stroke-linecap:butt;stroke-linejoin:miter;stroke:rgb(26.666667%,26.666667%,26.666667%);stroke-opacity:1;stroke-miterlimit:10;\" d=\"M 20 162.363281 L 51.71875 20 \"/>\n<path style=\"fill:none;stroke-width:1;stroke-linecap:butt;stroke-linejoin:miter;stroke:rgb(26.666667%,26.666667%,26.666667%);stroke-opacity:1;stroke-miterlimit:10;\" d=\"M 165.757812 110.921875 L 51.71875 20 \"/>\n<path style=\"fill-rule:nonzero;fill:rgb(100%,0%,0%);fill-opacity:1;stroke-width:1;stroke-linecap:butt;stroke-linejoin:miter;stroke:rgb(0%,0%,0%);stroke-opacity:1;stroke-miterlimit:10;\" d=\"M 290 172.285156 C 290 177.804688 285.523438 182.285156 280 182.285156 C 274.476562 182.285156 270 177.804688 270 172.285156 C 270 166.761719 274.476562 162.285156 280 162.285156 C 285.523438 162.285156 290 166.761719 290 172.285156 \"/>\n<path style=\"fill-rule:nonzero;fill:rgb(100%,0%,0%);fill-opacity:1;stroke-width:1;stroke-linecap:butt;stroke-linejoin:miter;stroke:rgb(0%,0%,0%);stroke-opacity:1;stroke-miterlimit:10;\" d=\"M 133.429688 280 C 133.429688 285.523438 128.953125 290 123.429688 290 C 117.90625 290 113.429688 285.523438 113.429688 280 C 113.429688 274.476562 117.90625 270 123.429688 270 C 128.953125 270 133.429688 274.476562 133.429688 280 \"/>\n<path style=\"fill-rule:nonzero;fill:rgb(100%,0%,0%);fill-opacity:1;stroke-width:1;stroke-linecap:butt;stroke-linejoin:miter;stroke:rgb(0%,0%,0%);stroke-opacity:1;stroke-miterlimit:10;\" d=\"M 255.0625 274.074219 C 255.0625 279.597656 250.585938 284.074219 245.0625 284.074219 C 239.539062 284.074219 235.0625 279.597656 235.0625 274.074219 C 235.0625 268.550781 239.539062 264.074219 245.0625 264.074219 C 250.585938 264.074219 255.0625 268.550781 255.0625 274.074219 \"/>\n<path style=\"fill-rule:nonzero;fill:rgb(100%,0%,0%);fill-opacity:1;stroke-width:1;stroke-linecap:butt;stroke-linejoin:miter;stroke:rgb(0%,0%,0%);stroke-opacity:1;stroke-miterlimit:10;\" d=\"M 30 162.363281 C 30 167.886719 25.523438 172.363281 20 172.363281 C 14.476562 172.363281 10 167.886719 10 162.363281 C 10 156.84375 14.476562 152.363281 20 152.363281 C 25.523438 152.363281 30 156.84375 30 162.363281 \"/>\n<path style=\"fill-rule:nonzero;fill:rgb(100%,0%,0%);fill-opacity:1;stroke-width:1;stroke-linecap:butt;stroke-linejoin:miter;stroke:rgb(0%,0%,0%);stroke-opacity:1;stroke-miterlimit:10;\" d=\"M 175.757812 110.921875 C 175.757812 116.441406 171.28125 120.921875 165.757812 120.921875 C 160.234375 120.921875 155.757812 116.441406 155.757812 110.921875 C 155.757812 105.398438 160.234375 100.921875 165.757812 100.921875 C 171.28125 100.921875 175.757812 105.398438 175.757812 110.921875 \"/>\n<path style=\"fill-rule:nonzero;fill:rgb(100%,0%,0%);fill-opacity:1;stroke-width:1;stroke-linecap:butt;stroke-linejoin:miter;stroke:rgb(0%,0%,0%);stroke-opacity:1;stroke-miterlimit:10;\" d=\"M 61.71875 20 C 61.71875 25.523438 57.242188 30 51.71875 30 C 46.195312 30 41.71875 25.523438 41.71875 20 C 41.71875 14.476562 46.195312 10 51.71875 10 C 57.242188 10 61.71875 14.476562 61.71875 20 \"/>\n<g style=\"fill:rgb(0%,0%,0%);fill-opacity:1;\">\n  <use xlink:href=\"#glyph0-1\" x=\"275.550781\" y=\"179.128906\"/>\n</g>\n<g style=\"fill:rgb(0%,0%,0%);fill-opacity:1;\">\n  <use xlink:href=\"#glyph0-2\" x=\"118.851562\" y=\"286.753906\"/>\n</g>\n<g style=\"fill:rgb(0%,0%,0%);fill-opacity:1;\">\n  <use xlink:href=\"#glyph0-3\" x=\"240.796875\" y=\"280.917969\"/>\n</g>\n<g style=\"fill:rgb(0%,0%,0%);fill-opacity:1;\">\n  <use xlink:href=\"#glyph0-4\" x=\"15.574219\" y=\"169.210938\"/>\n</g>\n<g style=\"fill:rgb(0%,0%,0%);fill-opacity:1;\">\n  <use xlink:href=\"#glyph0-5\" x=\"161.355469\" y=\"117.675781\"/>\n</g>\n<g style=\"fill:rgb(0%,0%,0%);fill-opacity:1;\">\n  <use xlink:href=\"#glyph0-6\" x=\"47.335938\" y=\"26.753906\"/>\n</g>\n</g>\n</svg>\n",
      "text/plain": [
       "<igraph.drawing.Plot at 0x7fbd5dd30700>"
      ]
     },
     "execution_count": 46,
     "metadata": {
      "image/svg+xml": {
       "isolated": true
      }
     },
     "output_type": "execute_result"
    }
   ],
   "source": [
    "# check if the graph is connected\n",
    "print('is G graph connected?', G.is_connected())\n",
    "\n",
    "# extract the G's connected components\n",
    "components = G.components()\n",
    "# get each component as a subgraph\n",
    "H,K = components.subgraphs()\n",
    "# plot the first component\n",
    "print('this is one of the components:')\n",
    "igraph.plot(H, **visual_style)"
   ]
  },
  {
   "cell_type": "code",
   "execution_count": 26,
   "metadata": {
    "slideshow": {
     "slide_type": "slide"
    }
   },
   "outputs": [
    {
     "name": "stdout",
     "output_type": "stream",
     "text": [
      "L is a clique, that is, a complete subgraph\n"
     ]
    },
    {
     "data": {
      "image/svg+xml": "<?xml version=\"1.0\" encoding=\"UTF-8\"?>\n<svg xmlns=\"http://www.w3.org/2000/svg\" xmlns:xlink=\"http://www.w3.org/1999/xlink\" width=\"300pt\" height=\"300pt\" viewBox=\"0 0 300 300\" version=\"1.1\">\n<defs>\n<g>\n<symbol overflow=\"visible\" id=\"glyph0-0\">\n<path style=\"stroke:none;\" d=\"M 0.703125 2.46875 L 0.703125 -9.875 L 7.703125 -9.875 L 7.703125 2.46875 Z M 1.484375 1.703125 L 6.921875 1.703125 L 6.921875 -9.078125 L 1.484375 -9.078125 Z M 1.484375 1.703125 \"/>\n</symbol>\n<symbol overflow=\"visible\" id=\"glyph0-1\">\n<path style=\"stroke:none;\" d=\"M 4.453125 -9.296875 C 3.742188 -9.296875 3.207031 -8.945312 2.84375 -8.25 C 2.488281 -7.550781 2.3125 -6.5 2.3125 -5.09375 C 2.3125 -3.695312 2.488281 -2.644531 2.84375 -1.9375 C 3.207031 -1.238281 3.742188 -0.890625 4.453125 -0.890625 C 5.171875 -0.890625 5.707031 -1.238281 6.0625 -1.9375 C 6.414062 -2.644531 6.59375 -3.695312 6.59375 -5.09375 C 6.59375 -6.5 6.414062 -7.550781 6.0625 -8.25 C 5.707031 -8.945312 5.171875 -9.296875 4.453125 -9.296875 Z M 4.453125 -10.390625 C 5.597656 -10.390625 6.472656 -9.9375 7.078125 -9.03125 C 7.679688 -8.125 7.984375 -6.8125 7.984375 -5.09375 C 7.984375 -3.375 7.679688 -2.0625 7.078125 -1.15625 C 6.472656 -0.25 5.597656 0.203125 4.453125 0.203125 C 3.304688 0.203125 2.429688 -0.25 1.828125 -1.15625 C 1.222656 -2.0625 0.921875 -3.375 0.921875 -5.09375 C 0.921875 -6.8125 1.222656 -8.125 1.828125 -9.03125 C 2.429688 -9.9375 3.304688 -10.390625 4.453125 -10.390625 Z M 4.453125 -10.390625 \"/>\n</symbol>\n<symbol overflow=\"visible\" id=\"glyph0-2\">\n<path style=\"stroke:none;\" d=\"M 1.734375 -1.15625 L 4 -1.15625 L 4 -8.953125 L 1.53125 -8.453125 L 1.53125 -9.71875 L 3.984375 -10.203125 L 5.359375 -10.203125 L 5.359375 -1.15625 L 7.609375 -1.15625 L 7.609375 0 L 1.734375 0 Z M 1.734375 -1.15625 \"/>\n</symbol>\n<symbol overflow=\"visible\" id=\"glyph0-3\">\n<path style=\"stroke:none;\" d=\"M 2.6875 -1.15625 L 7.5 -1.15625 L 7.5 0 L 1.03125 0 L 1.03125 -1.15625 C 1.550781 -1.695312 2.265625 -2.425781 3.171875 -3.34375 C 4.078125 -4.257812 4.644531 -4.847656 4.875 -5.109375 C 5.3125 -5.609375 5.617188 -6.03125 5.796875 -6.375 C 5.972656 -6.71875 6.0625 -7.054688 6.0625 -7.390625 C 6.0625 -7.929688 5.867188 -8.375 5.484375 -8.71875 C 5.109375 -9.0625 4.613281 -9.234375 4 -9.234375 C 3.570312 -9.234375 3.117188 -9.15625 2.640625 -9 C 2.160156 -8.851562 1.644531 -8.625 1.09375 -8.3125 L 1.09375 -9.71875 C 1.644531 -9.9375 2.160156 -10.101562 2.640625 -10.21875 C 3.128906 -10.332031 3.578125 -10.390625 3.984375 -10.390625 C 5.035156 -10.390625 5.875 -10.125 6.5 -9.59375 C 7.132812 -9.070312 7.453125 -8.367188 7.453125 -7.484375 C 7.453125 -7.054688 7.375 -6.65625 7.21875 -6.28125 C 7.0625 -5.90625 6.773438 -5.460938 6.359375 -4.953125 C 6.242188 -4.828125 5.878906 -4.445312 5.265625 -3.8125 C 4.660156 -3.175781 3.800781 -2.289062 2.6875 -1.15625 Z M 2.6875 -1.15625 \"/>\n</symbol>\n</g>\n</defs>\n<g id=\"surface46\">\n<rect x=\"0\" y=\"0\" width=\"300\" height=\"300\" style=\"fill:rgb(100%,100%,100%);fill-opacity:1;stroke:none;\"/>\n<path style=\"fill:none;stroke-width:1;stroke-linecap:butt;stroke-linejoin:miter;stroke:rgb(26.666667%,26.666667%,26.666667%);stroke-opacity:1;stroke-miterlimit:10;\" d=\"M 280 150 L 20 280 \"/>\n<path style=\"fill:none;stroke-width:1;stroke-linecap:butt;stroke-linejoin:miter;stroke:rgb(26.666667%,26.666667%,26.666667%);stroke-opacity:1;stroke-miterlimit:10;\" d=\"M 280 150 L 20 20 \"/>\n<path style=\"fill:none;stroke-width:1;stroke-linecap:butt;stroke-linejoin:miter;stroke:rgb(26.666667%,26.666667%,26.666667%);stroke-opacity:1;stroke-miterlimit:10;\" d=\"M 20 280 L 20 20 \"/>\n<path style=\"fill-rule:nonzero;fill:rgb(100%,0%,0%);fill-opacity:1;stroke-width:1;stroke-linecap:butt;stroke-linejoin:miter;stroke:rgb(0%,0%,0%);stroke-opacity:1;stroke-miterlimit:10;\" d=\"M 290 150 C 290 155.523438 285.523438 160 280 160 C 274.476562 160 270 155.523438 270 150 C 270 144.476562 274.476562 140 280 140 C 285.523438 140 290 144.476562 290 150 \"/>\n<path style=\"fill-rule:nonzero;fill:rgb(100%,0%,0%);fill-opacity:1;stroke-width:1;stroke-linecap:butt;stroke-linejoin:miter;stroke:rgb(0%,0%,0%);stroke-opacity:1;stroke-miterlimit:10;\" d=\"M 30 280 C 30 285.523438 25.523438 290 20 290 C 14.476562 290 10 285.523438 10 280 C 10 274.476562 14.476562 270 20 270 C 25.523438 270 30 274.476562 30 280 \"/>\n<path style=\"fill-rule:nonzero;fill:rgb(100%,0%,0%);fill-opacity:1;stroke-width:1;stroke-linecap:butt;stroke-linejoin:miter;stroke:rgb(0%,0%,0%);stroke-opacity:1;stroke-miterlimit:10;\" d=\"M 30 20 C 30 25.523438 25.523438 30 20 30 C 14.476562 30 10 25.523438 10 20 C 10 14.476562 14.476562 10 20 10 C 25.523438 10 30 14.476562 30 20 \"/>\n<g style=\"fill:rgb(0%,0%,0%);fill-opacity:1;\">\n  <use xlink:href=\"#glyph0-1\" x=\"275.550781\" y=\"156.847656\"/>\n</g>\n<g style=\"fill:rgb(0%,0%,0%);fill-opacity:1;\">\n  <use xlink:href=\"#glyph0-2\" x=\"15.421875\" y=\"286.753906\"/>\n</g>\n<g style=\"fill:rgb(0%,0%,0%);fill-opacity:1;\">\n  <use xlink:href=\"#glyph0-3\" x=\"15.734375\" y=\"26.847656\"/>\n</g>\n</g>\n</svg>\n",
      "text/plain": [
       "<igraph.drawing.Plot at 0x7fbd5d32f0d0>"
      ]
     },
     "execution_count": 26,
     "metadata": {
      "image/svg+xml": {
       "isolated": true
      }
     },
     "output_type": "execute_result"
    }
   ],
   "source": [
    "# extract the subgraph induced by the first 3 vertices\n",
    "L = G.subgraph([0,1,2])\n",
    "print('L is a clique, that is, a complete subgraph')\n",
    "# plot L\n",
    "igraph.plot(L, **visual_style)"
   ]
  },
  {
   "cell_type": "code",
   "execution_count": 37,
   "metadata": {
    "slideshow": {
     "slide_type": "slide"
    }
   },
   "outputs": [
    {
     "name": "stdout",
     "output_type": "stream",
     "text": [
      "each vertex is an object: igraph.Vertex(<igraph.Graph object at 0x7fbd5d2e4040>, 0, {'label': 0})\n",
      "the vertex has a unique index from 0 to G.vcount()-1, in this case: 0\n",
      "the attributes of this vertex are: {'label': 0}\n",
      "each edge is an object: igraph.Edge(<igraph.Graph object at 0x7fbd5d2e4040>, 0, {})\n",
      "the edge has a unique index from 0 to G.ecount()-1, in this case: 0\n",
      "the attributes of this edge are: {}\n",
      "this edge connects the following vertices: (0, 1)\n"
     ]
    }
   ],
   "source": [
    "# a graph is stored in igraph as a vertex sequence (G.vs) and an edge sequence (G.es)\n",
    "# let's see the first element of both sequences:\n",
    "for vertex in G.vs:\n",
    "    print('each vertex is an object:', vertex)\n",
    "    print('the vertex has a unique index from 0 to G.vcount()-1, in this case:', vertex.index)\n",
    "    print('the attributes of this vertex are:', vertex.attributes())\n",
    "    # break the loop\n",
    "    break\n",
    "for edge in G.es:\n",
    "    print('each edge is an object:', edge)\n",
    "    print('the edge has a unique index from 0 to G.ecount()-1, in this case:', edge.index)\n",
    "    print('the attributes of this edge are:', edge.attributes())\n",
    "    print('this edge connects the following vertices:', edge.tuple)\n",
    "    # break the loop\n",
    "    break"
   ]
  },
  {
   "cell_type": "code",
   "execution_count": 44,
   "metadata": {
    "slideshow": {
     "slide_type": "slide"
    }
   },
   "outputs": [
    {
     "name": "stdout",
     "output_type": "stream",
     "text": [
      "the degree sequence of G is [3, 3, 3, 3, 4, 2, 3, 1, 2, 2]\n",
      "vertex 2 has the following neighbors:\n",
      "igraph.Vertex(<igraph.Graph object at 0x7fbd5d2e4040>, 0, {'label': 0})\n",
      "igraph.Vertex(<igraph.Graph object at 0x7fbd5d2e4040>, 1, {'label': 1})\n",
      "igraph.Vertex(<igraph.Graph object at 0x7fbd5d2e4040>, 4, {'label': 4})\n",
      "the edges incident to vertex 3 are the following:\n",
      "igraph.Edge(<igraph.Graph object at 0x7fbd5d2e4040>, 4, {}) (1, 3)\n",
      "igraph.Edge(<igraph.Graph object at 0x7fbd5d2e4040>, 6, {}) (3, 4)\n",
      "igraph.Edge(<igraph.Graph object at 0x7fbd5d2e4040>, 7, {}) (3, 5)\n",
      "these are all the paths that start from vertex 6\n",
      "[[6, 7], [6, 8], [6, 8, 9], [6, 9], [6, 9, 8]]\n"
     ]
    }
   ],
   "source": [
    "# we can get the degree of all vertices of G\n",
    "print('the degree sequence of G is', G.degree())\n",
    "\n",
    "# for a given vertex, we can get its neighborhood\n",
    "print('vertex 2 has the following neighbors:')\n",
    "for u in G.vs[2].neighbors():\n",
    "    print(u)\n",
    "# and the list of its incident edges\n",
    "print('the edges incident to vertex 3 are the following:')\n",
    "for e in G.vs[3].all_edges():\n",
    "    print(e, e.tuple)\n",
    "# and all simple (i.e., acyclic) paths starting from that vertex\n",
    "print('these are all the paths that start from vertex 6')\n",
    "print(G.get_all_simple_paths(6))"
   ]
  }
 ],
 "metadata": {
  "celltoolbar": "Slideshow",
  "kernelspec": {
   "display_name": "Python 3",
   "language": "python",
   "name": "python3"
  },
  "language_info": {
   "codemirror_mode": {
    "name": "ipython",
    "version": 3
   },
   "file_extension": ".py",
   "mimetype": "text/x-python",
   "name": "python",
   "nbconvert_exporter": "python",
   "pygments_lexer": "ipython3",
   "version": "3.8.8"
  }
 },
 "nbformat": 4,
 "nbformat_minor": 4
}
